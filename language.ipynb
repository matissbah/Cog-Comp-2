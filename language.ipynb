{
  "nbformat": 4,
  "nbformat_minor": 0,
  "metadata": {
    "colab": {
      "provenance": []
    },
    "kernelspec": {
      "name": "python3",
      "display_name": "Python 3"
    },
    "language_info": {
      "name": "python"
    }
  },
  "cells": [
    {
      "cell_type": "markdown",
      "source": [
        "# Mechanisms of word segmentation\n",
        "In this assignment, you will implement a *statistical learning* mechanism to perform word segmentation on a stream of syllables from an artificial language. Before starting work on the assigment, you should read the following papers:\n",
        "\n",
        "- Aslin, R. N., Saffran, J. R., & Newport, E. L. (1998). Computation of conditional probability statistics by 8-month-old infants. *Psychological Science, 9*(4), 321-324. https://doi.org/10.1111/1467-9280.00063\n",
        "\n",
        "- Brent, M. R., & Cartwright, T. A. (1996). Distributional regularity and phonotactic constraints are useful for segmentation. *Cognition, 61*(1-2), 93-125.\n",
        "\n",
        "Note that all example images in this Colab notebook are just that: example images. Your data will lead to different figures and conclusions than the data used to create these examples."
      ],
      "metadata": {
        "id": "3uiLc7In5hpE"
      }
    },
    {
      "cell_type": "markdown",
      "source": [
        "## The problem\n",
        "\n",
        "Infants are exposed to language even before they are born. However, the language infants are exposed to do not contain clear information about its structure, after all what reaches the infants' ears is just one big stream of sounds. In order to learn a language, it is necessary to break down this stream of sounds into its basic structural components: words.\n",
        "\n",
        "Luckily, the infant's brain is smart enough to use what information *is* available: statistical information about transitional probabilities between syllables (and phonemes, and words, etc., but in this assignment we will focus on syllables).\n",
        "\n",
        "For example, the phrase \"pretty baby\" is probably often heard by an infant, but from the sound \"pret ty ba by\" it is not clear what the word boundaries are. After all, \"pret | ty ba by\" seems just as good as a segmentation as \"pret ty ba | by\" and \"pret ty | ba by\" or even \"pret | ty | ba | by\". However, as exposure to language increases, and words are used in different sentences, the infant learns that \"ba\" often follows \"ty\", whereas \"ba ty\" is not often heard. Syllable combinations occur more frequently within words than between words. We call this the *transitional probability*. It is defined as:\n",
        "\n",
        "$P(y|x) = \\frac{p(x,y)}{p(x)} = \\frac{\\textrm{freq}(x,y)}{\\textrm{freq}(x)}$\n",
        "\n",
        "where the probability of syllable $y$ following syllable $x$ equals the frequency of $x$ and $y$ co-occurring divided by the frequency of $x$ itself. Now we can use this information on our stream of syllables in our artificial language\n",
        "\n",
        "Let's get started!"
      ],
      "metadata": {
        "id": "ftKQxcmuCXwj"
      }
    },
    {
      "cell_type": "code",
      "source": [
        "# import libraries\n",
        "import numpy as np\n",
        "import pandas as pd\n",
        "import matplotlib.pyplot as plt"
      ],
      "metadata": {
        "id": "6Iu9T8Mr5imi"
      },
      "execution_count": null,
      "outputs": []
    },
    {
      "cell_type": "markdown",
      "source": [
        "## Part 1. Load and inspect your input data\n",
        "\n",
        "It is good practice to inspect the input data and get a feel for its contents and structure. Given that the input data is a stream of syllables, you should inspect our problem space.\n",
        "\n",
        "### Assignment 1.1\n",
        "Load the data and take a look at its contents. The input is represented as one large stream of syllables. Print the entire unsegmented input. You will need to separate each syllable before we can perform word segmentation.\n",
        "\n"
      ],
      "metadata": {
        "id": "6DpOH8DpKXcq"
      }
    },
    {
      "cell_type": "code",
      "source": [
        "!wget -qO input.txt https://surfdrive.surf.nl/files/index.php/s/dKdTYm89yqSGbsz/download\n",
        "\n",
        "with open(\"input.txt\") as f:\n",
        "    rawdata = f.read()\n",
        "\n",
        "### your code"
      ],
      "metadata": {
        "id": "ujlxLMWlN85_"
      },
      "execution_count": null,
      "outputs": []
    },
    {
      "cell_type": "markdown",
      "source": [
        "### Assignment 1.2\n",
        "\n",
        "Now, create a plot of all syllables in the input and their frequencies. It should look similar to this: <figure>\n",
        "      <img src=\"https://surfdrive.surf.nl/files/index.php/s/I01fE2vrpyrBfHx/download\" alt=\"Frequency plot\" style=\"width:400pt\">\n",
        "      </figure>"
      ],
      "metadata": {
        "id": "67rJJWrBgA3y"
      }
    },
    {
      "cell_type": "code",
      "source": [
        "### your code"
      ],
      "metadata": {
        "id": "vXhvDW_cWqem"
      },
      "execution_count": null,
      "outputs": []
    },
    {
      "cell_type": "markdown",
      "source": [
        "## Part 2. Transitional probabilities\n",
        "\n",
        "Now that you have a good feel for the data, you can start looking at the transitional probabilities between syllables. Remember the definition of the transitional probability:\n",
        "\n",
        "$P(y|x) = \\frac{p(x,y)}{p(x)} = \\frac{\\textrm{freq}(x,y)}{\\textrm{freq}(x)}$\n",
        "\n",
        "which makes it clear that you need to do something with the frequencies of the syllables.\n",
        "\n",
        "### Assignment 2.1\n",
        "\n",
        "You will need to calculate $P(y|x)$ for each co-occurrence of syllables in the input stream. Define a function that takes as an input the stream of syllables, and outputs a data structure containing the transitional probabilities. Then run that function using the stream of syllables."
      ],
      "metadata": {
        "id": "KQI1Rw8jehHR"
      }
    },
    {
      "cell_type": "code",
      "source": [
        "### your code"
      ],
      "metadata": {
        "id": "Zr_aa_rljxDV"
      },
      "execution_count": null,
      "outputs": []
    },
    {
      "cell_type": "markdown",
      "source": [
        "### Assignment 2.2\n",
        "\n",
        "You should now print the transitional probabilities for each co-occurring pair of syllables. The output should take the form of\n",
        "\n",
        "```\n",
        "Transition from 'do' to 'lu': 0.33\n",
        "```\n",
        "\n",
        "Print each combination on a separate line.\n"
      ],
      "metadata": {
        "id": "BR-sprbUj0Vf"
      }
    },
    {
      "cell_type": "code",
      "source": [
        "### your code"
      ],
      "metadata": {
        "id": "fvGq-_d4kcWC"
      },
      "execution_count": null,
      "outputs": []
    },
    {
      "cell_type": "markdown",
      "source": [
        "## Part 3. Performing word segmentation\n",
        "\n",
        "Now that you have all necessary transitional probabilities, you can start word segmentation on the original input.\n",
        "\n",
        "### Assignment 3.1\n",
        "Start by plotting the transitional probabilities for the first 30 syllables in the input. This should look similar to this:\n",
        "\n",
        "<figure>\n",
        "      <img src=\"https://surfdrive.surf.nl/files/index.php/s/ktO0iSQZ9X7Oc12/download\" alt=\"Random walk\" style=\"width:400pt\">\n",
        "      </figure>"
      ],
      "metadata": {
        "id": "lXQ70ymMelBr"
      }
    },
    {
      "cell_type": "code",
      "source": [
        "### your code"
      ],
      "metadata": {
        "id": "RbYR-OVWrSMc"
      },
      "execution_count": null,
      "outputs": []
    },
    {
      "cell_type": "markdown",
      "source": [
        "This is enough information for you to segment the complete input.\n",
        "\n",
        "### Assignment 3.2\n",
        "Write a function that takes as an input the original input (stream of syllables) and outputs all unique words of at least two syllables. Now print all unique words of at least two syllables, each word on its own line. The output should take the form of:\n",
        "\n",
        "```\n",
        "di ru po\n",
        "du ba\n",
        "lu si be\n",
        "```\n",
        "\n"
      ],
      "metadata": {
        "id": "l94G4qMEwfe-"
      }
    },
    {
      "cell_type": "code",
      "source": [
        "### your code"
      ],
      "metadata": {
        "id": "QzD6GA117jTV"
      },
      "execution_count": null,
      "outputs": []
    },
    {
      "cell_type": "markdown",
      "source": [
        "### Assignment 3.3\n",
        "Now that you have identified the words in the input stream, it is time to perform word segmentation on the entire input. You will output the segmented input stream to a text file `output.txt`. The input stream took the form of an unsegmented stream of syllables such as `di ru pa bo pu bi re di ru pa bo do lo mu...`. Now you will create an output that is segmented, taking the form of `dirupabo pubire dirupabo dolomu...`. The output file should not contain any line breaks."
      ],
      "metadata": {
        "id": "m7L26YbkWKTn"
      }
    },
    {
      "cell_type": "code",
      "source": [
        "### your code\n"
      ],
      "metadata": {
        "id": "s9hvtEl1ZpIE"
      },
      "execution_count": null,
      "outputs": []
    },
    {
      "cell_type": "markdown",
      "source": [
        "# Conclusion\n",
        "\n",
        "That's it! You have now used transitional probabilities learned from language exposure to perform word segmentation, just like infants do."
      ],
      "metadata": {
        "id": "qly6NDPPaE1L"
      }
    }
  ]
}